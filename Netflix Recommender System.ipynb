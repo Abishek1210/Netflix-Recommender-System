{
 "cells": [
  {
   "cell_type": "markdown",
   "metadata": {},
   "source": [
    "# IMPORTING PACKAGES "
   ]
  },
  {
   "cell_type": "code",
   "execution_count": 177,
   "metadata": {},
   "outputs": [],
   "source": [
    "import numpy as np\n",
    "import pandas as pd\n",
    "import matplotlib.pyplot as plt\n",
    "import seaborn as sns\n",
    "%matplotlib inline\n",
    "from sklearn.feature_extraction.text import TfidfVectorizer\n",
    "from sklearn.metrics.pairwise import cosine_similarity"
   ]
  },
  {
   "cell_type": "markdown",
   "metadata": {},
   "source": [
    "# LOADING DATA"
   ]
  },
  {
   "cell_type": "code",
   "execution_count": null,
   "metadata": {},
   "outputs": [],
   "source": [
    "data = pd.read_csv('KAGGLE/netflix_titles.csv')"
   ]
  },
  {
   "cell_type": "code",
   "execution_count": 366,
   "metadata": {
    "scrolled": false
   },
   "outputs": [
    {
     "data": {
      "text/html": [
       "<div>\n",
       "<style scoped>\n",
       "    .dataframe tbody tr th:only-of-type {\n",
       "        vertical-align: middle;\n",
       "    }\n",
       "\n",
       "    .dataframe tbody tr th {\n",
       "        vertical-align: top;\n",
       "    }\n",
       "\n",
       "    .dataframe thead th {\n",
       "        text-align: right;\n",
       "    }\n",
       "</style>\n",
       "<table border=\"1\" class=\"dataframe\">\n",
       "  <thead>\n",
       "    <tr style=\"text-align: right;\">\n",
       "      <th></th>\n",
       "      <th>show_id</th>\n",
       "      <th>type</th>\n",
       "      <th>title</th>\n",
       "      <th>director</th>\n",
       "      <th>cast</th>\n",
       "      <th>country</th>\n",
       "      <th>date_added</th>\n",
       "      <th>release_year</th>\n",
       "      <th>duration</th>\n",
       "      <th>listed_in</th>\n",
       "      <th>description</th>\n",
       "      <th>month_added</th>\n",
       "      <th>usable data</th>\n",
       "    </tr>\n",
       "  </thead>\n",
       "  <tbody>\n",
       "    <tr>\n",
       "      <th>0</th>\n",
       "      <td>81145628</td>\n",
       "      <td>Movie</td>\n",
       "      <td>Norm of the North: King Sized Adventure</td>\n",
       "      <td>Richard Finn, Tim Maltby</td>\n",
       "      <td>Alan Marriott, Andrew Toth, Brian Dobson, Cole...</td>\n",
       "      <td>[United States,  India,  South Korea,  China]</td>\n",
       "      <td>2019-09-09</td>\n",
       "      <td>2019</td>\n",
       "      <td>90 min</td>\n",
       "      <td>[Children &amp; Family Movies,  Comedies]</td>\n",
       "      <td>Before planning an awesome wedding for his gra...</td>\n",
       "      <td>September</td>\n",
       "      <td>Before planning an awesome wedding for his gra...</td>\n",
       "    </tr>\n",
       "    <tr>\n",
       "      <th>4</th>\n",
       "      <td>80125979</td>\n",
       "      <td>Movie</td>\n",
       "      <td>#realityhigh</td>\n",
       "      <td>Fernando Lebrija</td>\n",
       "      <td>Nesta Cooper, Kate Walsh, John Michael Higgins...</td>\n",
       "      <td>[United States]</td>\n",
       "      <td>2017-09-08</td>\n",
       "      <td>2017</td>\n",
       "      <td>99 min</td>\n",
       "      <td>[Comedies]</td>\n",
       "      <td>When nerdy high schooler Dani finally attracts...</td>\n",
       "      <td>September</td>\n",
       "      <td>When nerdy high schooler Dani finally attracts...</td>\n",
       "    </tr>\n",
       "    <tr>\n",
       "      <th>6</th>\n",
       "      <td>70304989</td>\n",
       "      <td>Movie</td>\n",
       "      <td>Automata</td>\n",
       "      <td>Gabe Ibáñez</td>\n",
       "      <td>Antonio Banderas, Dylan McDermott, Melanie Gri...</td>\n",
       "      <td>[Bulgaria,  United States,  Spain,  Canada]</td>\n",
       "      <td>2017-09-08</td>\n",
       "      <td>2014</td>\n",
       "      <td>110 min</td>\n",
       "      <td>[International Movies,  Sci-Fi &amp; Fantasy,  Thr...</td>\n",
       "      <td>In a dystopian future, an insurance adjuster f...</td>\n",
       "      <td>September</td>\n",
       "      <td>In a dystopian future, an insurance adjuster f...</td>\n",
       "    </tr>\n",
       "    <tr>\n",
       "      <th>7</th>\n",
       "      <td>80164077</td>\n",
       "      <td>Movie</td>\n",
       "      <td>Fabrizio Copano: Solo pienso en mi</td>\n",
       "      <td>Rodrigo Toro, Francisco Schultz</td>\n",
       "      <td>Fabrizio Copano</td>\n",
       "      <td>[Chile]</td>\n",
       "      <td>2017-09-08</td>\n",
       "      <td>2017</td>\n",
       "      <td>60 min</td>\n",
       "      <td>[Stand-Up Comedy]</td>\n",
       "      <td>Fabrizio Copano takes audience participation t...</td>\n",
       "      <td>September</td>\n",
       "      <td>Fabrizio Copano takes audience participation t...</td>\n",
       "    </tr>\n",
       "    <tr>\n",
       "      <th>9</th>\n",
       "      <td>70304990</td>\n",
       "      <td>Movie</td>\n",
       "      <td>Good People</td>\n",
       "      <td>Henrik Ruben Genz</td>\n",
       "      <td>James Franco, Kate Hudson, Tom Wilkinson, Omar...</td>\n",
       "      <td>[United States,  United Kingdom,  Denmark,  Sw...</td>\n",
       "      <td>2017-09-08</td>\n",
       "      <td>2014</td>\n",
       "      <td>90 min</td>\n",
       "      <td>[Action &amp; Adventure,  Thrillers]</td>\n",
       "      <td>A struggling couple can't believe their luck w...</td>\n",
       "      <td>September</td>\n",
       "      <td>A struggling couple can't believe their luck w...</td>\n",
       "    </tr>\n",
       "  </tbody>\n",
       "</table>\n",
       "</div>"
      ],
      "text/plain": [
       "    show_id   type                                    title  \\\n",
       "0  81145628  Movie  Norm of the North: King Sized Adventure   \n",
       "4  80125979  Movie                             #realityhigh   \n",
       "6  70304989  Movie                                 Automata   \n",
       "7  80164077  Movie       Fabrizio Copano: Solo pienso en mi   \n",
       "9  70304990  Movie                              Good People   \n",
       "\n",
       "                          director  \\\n",
       "0         Richard Finn, Tim Maltby   \n",
       "4                 Fernando Lebrija   \n",
       "6                      Gabe Ibáñez   \n",
       "7  Rodrigo Toro, Francisco Schultz   \n",
       "9                Henrik Ruben Genz   \n",
       "\n",
       "                                                cast  \\\n",
       "0  Alan Marriott, Andrew Toth, Brian Dobson, Cole...   \n",
       "4  Nesta Cooper, Kate Walsh, John Michael Higgins...   \n",
       "6  Antonio Banderas, Dylan McDermott, Melanie Gri...   \n",
       "7                                    Fabrizio Copano   \n",
       "9  James Franco, Kate Hudson, Tom Wilkinson, Omar...   \n",
       "\n",
       "                                             country date_added  release_year  \\\n",
       "0      [United States,  India,  South Korea,  China] 2019-09-09          2019   \n",
       "4                                    [United States] 2017-09-08          2017   \n",
       "6        [Bulgaria,  United States,  Spain,  Canada] 2017-09-08          2014   \n",
       "7                                            [Chile] 2017-09-08          2017   \n",
       "9  [United States,  United Kingdom,  Denmark,  Sw... 2017-09-08          2014   \n",
       "\n",
       "  duration                                          listed_in  \\\n",
       "0   90 min              [Children & Family Movies,  Comedies]   \n",
       "4   99 min                                         [Comedies]   \n",
       "6  110 min  [International Movies,  Sci-Fi & Fantasy,  Thr...   \n",
       "7   60 min                                  [Stand-Up Comedy]   \n",
       "9   90 min                   [Action & Adventure,  Thrillers]   \n",
       "\n",
       "                                         description month_added  \\\n",
       "0  Before planning an awesome wedding for his gra...   September   \n",
       "4  When nerdy high schooler Dani finally attracts...   September   \n",
       "6  In a dystopian future, an insurance adjuster f...   September   \n",
       "7  Fabrizio Copano takes audience participation t...   September   \n",
       "9  A struggling couple can't believe their luck w...   September   \n",
       "\n",
       "                                         usable data  \n",
       "0  Before planning an awesome wedding for his gra...  \n",
       "4  When nerdy high schooler Dani finally attracts...  \n",
       "6  In a dystopian future, an insurance adjuster f...  \n",
       "7  Fabrizio Copano takes audience participation t...  \n",
       "9  A struggling couple can't believe their luck w...  "
      ]
     },
     "execution_count": 366,
     "metadata": {},
     "output_type": "execute_result"
    }
   ],
   "source": [
    "data.head()"
   ]
  },
  {
   "cell_type": "code",
   "execution_count": 297,
   "metadata": {
    "scrolled": true
   },
   "outputs": [
    {
     "name": "stdout",
     "output_type": "stream",
     "text": [
      "<class 'pandas.core.frame.DataFrame'>\n",
      "RangeIndex: 6234 entries, 0 to 6233\n",
      "Data columns (total 12 columns):\n",
      " #   Column        Non-Null Count  Dtype \n",
      "---  ------        --------------  ----- \n",
      " 0   show_id       6234 non-null   int64 \n",
      " 1   type          6234 non-null   object\n",
      " 2   title         6234 non-null   object\n",
      " 3   director      4265 non-null   object\n",
      " 4   cast          5664 non-null   object\n",
      " 5   country       5758 non-null   object\n",
      " 6   date_added    6223 non-null   object\n",
      " 7   release_year  6234 non-null   int64 \n",
      " 8   rating        6224 non-null   object\n",
      " 9   duration      6234 non-null   object\n",
      " 10  listed_in     6234 non-null   object\n",
      " 11  description   6234 non-null   object\n",
      "dtypes: int64(2), object(10)\n",
      "memory usage: 584.6+ KB\n"
     ]
    }
   ],
   "source": [
    "data.info()"
   ]
  },
  {
   "cell_type": "markdown",
   "metadata": {},
   "source": [
    "# DATA PRE-PROCESSING"
   ]
  },
  {
   "cell_type": "code",
   "execution_count": 298,
   "metadata": {},
   "outputs": [],
   "source": [
    "data['month_added'] = data['date_added'].apply(lambda x: str(x).split()[0])"
   ]
  },
  {
   "cell_type": "code",
   "execution_count": 299,
   "metadata": {},
   "outputs": [],
   "source": [
    "data['date_added'] = data['date_added'].apply(lambda x: pd.to_datetime(x))"
   ]
  },
  {
   "cell_type": "code",
   "execution_count": 300,
   "metadata": {},
   "outputs": [],
   "source": [
    "data.drop(['rating'], axis=1, inplace=True)"
   ]
  },
  {
   "cell_type": "code",
   "execution_count": 301,
   "metadata": {},
   "outputs": [],
   "source": [
    "tvshow = data[data['type'] == 'TV Show'].drop('type', axis=1)\n",
    "movie = data[data['type'] == 'Movie'].drop('type', axis=1)"
   ]
  },
  {
   "cell_type": "code",
   "execution_count": 302,
   "metadata": {},
   "outputs": [],
   "source": [
    "data['country'] = data['country'].apply(lambda x: str(x).split(','))\n",
    "data['listed_in'] = data['listed_in'].apply(lambda x: str(x).split(','))"
   ]
  },
  {
   "cell_type": "code",
   "execution_count": 336,
   "metadata": {},
   "outputs": [],
   "source": [
    "usable_data = []\n",
    "for i in data.index:\n",
    "    usable_data.append(data['description'][i])\n",
    "    \n",
    "data['usable data'] = usable_data"
   ]
  },
  {
   "cell_type": "markdown",
   "metadata": {},
   "source": [
    "# VISUALIZING DATA"
   ]
  },
  {
   "cell_type": "code",
   "execution_count": 337,
   "metadata": {},
   "outputs": [
    {
     "data": {
      "text/plain": [
       "<AxesSubplot:xlabel='type', ylabel='count'>"
      ]
     },
     "execution_count": 337,
     "metadata": {},
     "output_type": "execute_result"
    },
    {
     "data": {
      "image/png": "[encoded data removed]",
      "text/plain": [
       "<Figure size 432x288 with 1 Axes>"
      ]
     },
     "metadata": {
      "needs_background": "light"
     },
     "output_type": "display_data"
    }
   ],
   "source": [
    "sns.countplot(x=data['type'])"
   ]
  },
  {
   "cell_type": "code",
   "execution_count": 338,
   "metadata": {},
   "outputs": [
    {
     "data": {
      "text/plain": [
       "<AxesSubplot:xlabel='release_year', ylabel='Count'>"
      ]
     },
     "execution_count": 338,
     "metadata": {},
     "output_type": "execute_result"
    },
    {
     "data": {
      "image/png": "[encoded data removed]",
      "text/plain": [
       "<Figure size 1440x360 with 1 Axes>"
      ]
     },
     "metadata": {
      "needs_background": "light"
     },
     "output_type": "display_data"
    }
   ],
   "source": [
    "fig = plt.figure(figsize=(20,5))\n",
    "sns.histplot(x=data['release_year'], kde=True)"
   ]
  },
  {
   "cell_type": "code",
   "execution_count": 339,
   "metadata": {},
   "outputs": [
    {
     "data": {
      "text/plain": [
       "<AxesSubplot:xlabel='duration', ylabel='Count'>"
      ]
     },
     "execution_count": 339,
     "metadata": {},
     "output_type": "execute_result"
    },
    {
     "data": {
      "image/png": "[encoded data removed]",
      "text/plain": [
       "<Figure size 1440x360 with 1 Axes>"
      ]
     },
     "metadata": {
      "needs_background": "light"
     },
     "output_type": "display_data"
    }
   ],
   "source": [
    "fig = plt.figure(figsize=(20,5))\n",
    "sns.histplot(x=data[data['type']=='Movie']['duration'].apply(lambda x: int(x.split()[0])).sort_values(), kde=True)"
   ]
  },
  {
   "cell_type": "code",
   "execution_count": 340,
   "metadata": {},
   "outputs": [
    {
     "data": {
      "text/plain": [
       "<AxesSubplot:xlabel='duration', ylabel='Count'>"
      ]
     },
     "execution_count": 340,
     "metadata": {},
     "output_type": "execute_result"
    },
    {
     "data": {
      "image/png": "[encoded data removed]",
      "text/plain": [
       "<Figure size 1440x360 with 1 Axes>"
      ]
     },
     "metadata": {
      "needs_background": "light"
     },
     "output_type": "display_data"
    }
   ],
   "source": [
    "fig = plt.figure(figsize=(20,5))\n",
    "sns.histplot(x=data[data['type']=='TV Show']['duration'].apply(lambda x: int(x.split()[0])).sort_values(), kde=True)"
   ]
  },
  {
   "cell_type": "code",
   "execution_count": 341,
   "metadata": {},
   "outputs": [
    {
     "data": {
      "text/plain": [
       "<AxesSubplot:xlabel='genre', ylabel='count'>"
      ]
     },
     "execution_count": 341,
     "metadata": {},
     "output_type": "execute_result"
    },
    {
     "data": {
      "image/png": "[encoded data removed]",
      "text/plain": [
       "<Figure size 2160x360 with 1 Axes>"
      ]
     },
     "metadata": {
      "needs_background": "light"
     },
     "output_type": "display_data"
    }
   ],
   "source": [
    "genres = []\n",
    "for i in data[data['type']=='Movie']['listed_in']:\n",
    "    for x in i:\n",
    "        genres.append(x)\n",
    "        \n",
    "df = pd.DataFrame([genres, [genres.count(x) for x in genres]]).transpose()\n",
    "df.columns = ['genre', 'count']\n",
    "df = df.drop_duplicates()\n",
    "\n",
    "for i in df.index:\n",
    "    if df['count'][i] <= 100:\n",
    "        df['genre'][i] = 'Others'\n",
    "        \n",
    "df = df.groupby('genre').sum()\n",
    "\n",
    "fig = plt.figure(figsize=(30,5))\n",
    "sns.barplot(x=df.index, y=df['count'])"
   ]
  },
  {
   "cell_type": "markdown",
   "metadata": {},
   "source": [
    "# BUILDING A RECOMMENDER MODEL"
   ]
  },
  {
   "cell_type": "code",
   "execution_count": 342,
   "metadata": {},
   "outputs": [],
   "source": [
    "data.dropna(inplace=True)"
   ]
  },
  {
   "cell_type": "code",
   "execution_count": 345,
   "metadata": {},
   "outputs": [],
   "source": [
    "tfidf = TfidfVectorizer(lowercase=True, stop_words='english')"
   ]
  },
  {
   "cell_type": "code",
   "execution_count": 349,
   "metadata": {},
   "outputs": [],
   "source": [
    "x = data['usable data']\n",
    "vec_data = tfidf.fit_transform(x)"
   ]
  },
  {
   "cell_type": "code",
   "execution_count": 355,
   "metadata": {},
   "outputs": [],
   "source": [
    "tfidf_df = pd.DataFrame(vec_data.toarray(), columns=tfidf.get_feature_names())\n",
    "tfidf_df.index = data['title']"
   ]
  },
  {
   "cell_type": "code",
   "execution_count": 360,
   "metadata": {},
   "outputs": [
    {
     "data": {
      "text/html": [
       "<div>\n",
       "<style scoped>\n",
       "    .dataframe tbody tr th:only-of-type {\n",
       "        vertical-align: middle;\n",
       "    }\n",
       "\n",
       "    .dataframe tbody tr th {\n",
       "        vertical-align: top;\n",
       "    }\n",
       "\n",
       "    .dataframe thead th {\n",
       "        text-align: right;\n",
       "    }\n",
       "</style>\n",
       "<table border=\"1\" class=\"dataframe\">\n",
       "  <thead>\n",
       "    <tr style=\"text-align: right;\">\n",
       "      <th></th>\n",
       "      <th>000</th>\n",
       "      <th>007</th>\n",
       "      <th>10</th>\n",
       "      <th>100</th>\n",
       "      <th>1000</th>\n",
       "      <th>10th</th>\n",
       "      <th>11</th>\n",
       "      <th>112</th>\n",
       "      <th>11th</th>\n",
       "      <th>12</th>\n",
       "      <th>...</th>\n",
       "      <th>zoya</th>\n",
       "      <th>zoé</th>\n",
       "      <th>zuhu</th>\n",
       "      <th>zurich</th>\n",
       "      <th>álex</th>\n",
       "      <th>álvaro</th>\n",
       "      <th>émile</th>\n",
       "      <th>über</th>\n",
       "      <th>ōarai</th>\n",
       "      <th>şeref</th>\n",
       "    </tr>\n",
       "    <tr>\n",
       "      <th>title</th>\n",
       "      <th></th>\n",
       "      <th></th>\n",
       "      <th></th>\n",
       "      <th></th>\n",
       "      <th></th>\n",
       "      <th></th>\n",
       "      <th></th>\n",
       "      <th></th>\n",
       "      <th></th>\n",
       "      <th></th>\n",
       "      <th></th>\n",
       "      <th></th>\n",
       "      <th></th>\n",
       "      <th></th>\n",
       "      <th></th>\n",
       "      <th></th>\n",
       "      <th></th>\n",
       "      <th></th>\n",
       "      <th></th>\n",
       "      <th></th>\n",
       "      <th></th>\n",
       "    </tr>\n",
       "  </thead>\n",
       "  <tbody>\n",
       "    <tr>\n",
       "      <th>Norm of the North: King Sized Adventure</th>\n",
       "      <td>0.0</td>\n",
       "      <td>0.0</td>\n",
       "      <td>0.0</td>\n",
       "      <td>0.0</td>\n",
       "      <td>0.0</td>\n",
       "      <td>0.0</td>\n",
       "      <td>0.0</td>\n",
       "      <td>0.0</td>\n",
       "      <td>0.0</td>\n",
       "      <td>0.0</td>\n",
       "      <td>...</td>\n",
       "      <td>0.0</td>\n",
       "      <td>0.0</td>\n",
       "      <td>0.0</td>\n",
       "      <td>0.0</td>\n",
       "      <td>0.0</td>\n",
       "      <td>0.0</td>\n",
       "      <td>0.0</td>\n",
       "      <td>0.0</td>\n",
       "      <td>0.0</td>\n",
       "      <td>0.0</td>\n",
       "    </tr>\n",
       "    <tr>\n",
       "      <th>#realityhigh</th>\n",
       "      <td>0.0</td>\n",
       "      <td>0.0</td>\n",
       "      <td>0.0</td>\n",
       "      <td>0.0</td>\n",
       "      <td>0.0</td>\n",
       "      <td>0.0</td>\n",
       "      <td>0.0</td>\n",
       "      <td>0.0</td>\n",
       "      <td>0.0</td>\n",
       "      <td>0.0</td>\n",
       "      <td>...</td>\n",
       "      <td>0.0</td>\n",
       "      <td>0.0</td>\n",
       "      <td>0.0</td>\n",
       "      <td>0.0</td>\n",
       "      <td>0.0</td>\n",
       "      <td>0.0</td>\n",
       "      <td>0.0</td>\n",
       "      <td>0.0</td>\n",
       "      <td>0.0</td>\n",
       "      <td>0.0</td>\n",
       "    </tr>\n",
       "    <tr>\n",
       "      <th>Automata</th>\n",
       "      <td>0.0</td>\n",
       "      <td>0.0</td>\n",
       "      <td>0.0</td>\n",
       "      <td>0.0</td>\n",
       "      <td>0.0</td>\n",
       "      <td>0.0</td>\n",
       "      <td>0.0</td>\n",
       "      <td>0.0</td>\n",
       "      <td>0.0</td>\n",
       "      <td>0.0</td>\n",
       "      <td>...</td>\n",
       "      <td>0.0</td>\n",
       "      <td>0.0</td>\n",
       "      <td>0.0</td>\n",
       "      <td>0.0</td>\n",
       "      <td>0.0</td>\n",
       "      <td>0.0</td>\n",
       "      <td>0.0</td>\n",
       "      <td>0.0</td>\n",
       "      <td>0.0</td>\n",
       "      <td>0.0</td>\n",
       "    </tr>\n",
       "    <tr>\n",
       "      <th>Fabrizio Copano: Solo pienso en mi</th>\n",
       "      <td>0.0</td>\n",
       "      <td>0.0</td>\n",
       "      <td>0.0</td>\n",
       "      <td>0.0</td>\n",
       "      <td>0.0</td>\n",
       "      <td>0.0</td>\n",
       "      <td>0.0</td>\n",
       "      <td>0.0</td>\n",
       "      <td>0.0</td>\n",
       "      <td>0.0</td>\n",
       "      <td>...</td>\n",
       "      <td>0.0</td>\n",
       "      <td>0.0</td>\n",
       "      <td>0.0</td>\n",
       "      <td>0.0</td>\n",
       "      <td>0.0</td>\n",
       "      <td>0.0</td>\n",
       "      <td>0.0</td>\n",
       "      <td>0.0</td>\n",
       "      <td>0.0</td>\n",
       "      <td>0.0</td>\n",
       "    </tr>\n",
       "    <tr>\n",
       "      <th>Good People</th>\n",
       "      <td>0.0</td>\n",
       "      <td>0.0</td>\n",
       "      <td>0.0</td>\n",
       "      <td>0.0</td>\n",
       "      <td>0.0</td>\n",
       "      <td>0.0</td>\n",
       "      <td>0.0</td>\n",
       "      <td>0.0</td>\n",
       "      <td>0.0</td>\n",
       "      <td>0.0</td>\n",
       "      <td>...</td>\n",
       "      <td>0.0</td>\n",
       "      <td>0.0</td>\n",
       "      <td>0.0</td>\n",
       "      <td>0.0</td>\n",
       "      <td>0.0</td>\n",
       "      <td>0.0</td>\n",
       "      <td>0.0</td>\n",
       "      <td>0.0</td>\n",
       "      <td>0.0</td>\n",
       "      <td>0.0</td>\n",
       "    </tr>\n",
       "  </tbody>\n",
       "</table>\n",
       "<p>5 rows × 12445 columns</p>\n",
       "</div>"
      ],
      "text/plain": [
       "                                         000  007   10  100  1000  10th   11  \\\n",
       "title                                                                          \n",
       "Norm of the North: King Sized Adventure  0.0  0.0  0.0  0.0   0.0   0.0  0.0   \n",
       "#realityhigh                             0.0  0.0  0.0  0.0   0.0   0.0  0.0   \n",
       "Automata                                 0.0  0.0  0.0  0.0   0.0   0.0  0.0   \n",
       "Fabrizio Copano: Solo pienso en mi       0.0  0.0  0.0  0.0   0.0   0.0  0.0   \n",
       "Good People                              0.0  0.0  0.0  0.0   0.0   0.0  0.0   \n",
       "\n",
       "                                         112  11th   12  ...  zoya  zoé  zuhu  \\\n",
       "title                                                    ...                    \n",
       "Norm of the North: King Sized Adventure  0.0   0.0  0.0  ...   0.0  0.0   0.0   \n",
       "#realityhigh                             0.0   0.0  0.0  ...   0.0  0.0   0.0   \n",
       "Automata                                 0.0   0.0  0.0  ...   0.0  0.0   0.0   \n",
       "Fabrizio Copano: Solo pienso en mi       0.0   0.0  0.0  ...   0.0  0.0   0.0   \n",
       "Good People                              0.0   0.0  0.0  ...   0.0  0.0   0.0   \n",
       "\n",
       "                                         zurich  álex  álvaro  émile  über  \\\n",
       "title                                                                        \n",
       "Norm of the North: King Sized Adventure     0.0   0.0     0.0    0.0   0.0   \n",
       "#realityhigh                                0.0   0.0     0.0    0.0   0.0   \n",
       "Automata                                    0.0   0.0     0.0    0.0   0.0   \n",
       "Fabrizio Copano: Solo pienso en mi          0.0   0.0     0.0    0.0   0.0   \n",
       "Good People                                 0.0   0.0     0.0    0.0   0.0   \n",
       "\n",
       "                                         ōarai  şeref  \n",
       "title                                                  \n",
       "Norm of the North: King Sized Adventure    0.0    0.0  \n",
       "#realityhigh                               0.0    0.0  \n",
       "Automata                                   0.0    0.0  \n",
       "Fabrizio Copano: Solo pienso en mi         0.0    0.0  \n",
       "Good People                                0.0    0.0  \n",
       "\n",
       "[5 rows x 12445 columns]"
      ]
     },
     "execution_count": 360,
     "metadata": {},
     "output_type": "execute_result"
    }
   ],
   "source": [
    "tfidf_df.head()"
   ]
  },
  {
   "cell_type": "code",
   "execution_count": 357,
   "metadata": {},
   "outputs": [],
   "source": [
    "cos_sim = cosine_similarity(tfidf_df)"
   ]
  },
  {
   "cell_type": "code",
   "execution_count": 358,
   "metadata": {},
   "outputs": [],
   "source": [
    "cos_sim_df = pd.DataFrame(cos_sim, index=tfidf_df.index, columns=tfidf_df.index)"
   ]
  },
  {
   "cell_type": "code",
   "execution_count": 361,
   "metadata": {},
   "outputs": [
    {
     "data": {
      "text/html": [
       "<div>\n",
       "<style scoped>\n",
       "    .dataframe tbody tr th:only-of-type {\n",
       "        vertical-align: middle;\n",
       "    }\n",
       "\n",
       "    .dataframe tbody tr th {\n",
       "        vertical-align: top;\n",
       "    }\n",
       "\n",
       "    .dataframe thead th {\n",
       "        text-align: right;\n",
       "    }\n",
       "</style>\n",
       "<table border=\"1\" class=\"dataframe\">\n",
       "  <thead>\n",
       "    <tr style=\"text-align: right;\">\n",
       "      <th>title</th>\n",
       "      <th>Norm of the North: King Sized Adventure</th>\n",
       "      <th>#realityhigh</th>\n",
       "      <th>Automata</th>\n",
       "      <th>Fabrizio Copano: Solo pienso en mi</th>\n",
       "      <th>Good People</th>\n",
       "      <th>Joaquín Reyes: Una y no más</th>\n",
       "      <th>Kidnapping Mr. Heineken</th>\n",
       "      <th>Krish Trish and Baltiboy: Battle of Wits</th>\n",
       "      <th>Krish Trish and Baltiboy: Best Friends Forever</th>\n",
       "      <th>Krish Trish and Baltiboy: Comics of India</th>\n",
       "      <th>...</th>\n",
       "      <th>Comedians in Cars Getting Coffee</th>\n",
       "      <th>The Cat in the Hat Knows a Lot About That!</th>\n",
       "      <th>Fullmetal Alchemist: Brotherhood</th>\n",
       "      <th>Merlin</th>\n",
       "      <th>Abnormal Summit</th>\n",
       "      <th>The Great British Baking Show</th>\n",
       "      <th>Miraculous: Tales of Ladybug &amp; Cat Noir</th>\n",
       "      <th>Sacred Games</th>\n",
       "      <th>Men on a Mission</th>\n",
       "      <th>Leyla and Mecnun</th>\n",
       "    </tr>\n",
       "    <tr>\n",
       "      <th>title</th>\n",
       "      <th></th>\n",
       "      <th></th>\n",
       "      <th></th>\n",
       "      <th></th>\n",
       "      <th></th>\n",
       "      <th></th>\n",
       "      <th></th>\n",
       "      <th></th>\n",
       "      <th></th>\n",
       "      <th></th>\n",
       "      <th></th>\n",
       "      <th></th>\n",
       "      <th></th>\n",
       "      <th></th>\n",
       "      <th></th>\n",
       "      <th></th>\n",
       "      <th></th>\n",
       "      <th></th>\n",
       "      <th></th>\n",
       "      <th></th>\n",
       "      <th></th>\n",
       "    </tr>\n",
       "  </thead>\n",
       "  <tbody>\n",
       "    <tr>\n",
       "      <th>Norm of the North: King Sized Adventure</th>\n",
       "      <td>1.0</td>\n",
       "      <td>0.0</td>\n",
       "      <td>0.0</td>\n",
       "      <td>0.0</td>\n",
       "      <td>0.0</td>\n",
       "      <td>0.000000</td>\n",
       "      <td>0.0</td>\n",
       "      <td>0.0</td>\n",
       "      <td>0.0</td>\n",
       "      <td>0.053526</td>\n",
       "      <td>...</td>\n",
       "      <td>0.0</td>\n",
       "      <td>0.0</td>\n",
       "      <td>0.0</td>\n",
       "      <td>0.054115</td>\n",
       "      <td>0.0</td>\n",
       "      <td>0.0</td>\n",
       "      <td>0.000000</td>\n",
       "      <td>0.0</td>\n",
       "      <td>0.000000</td>\n",
       "      <td>0.0</td>\n",
       "    </tr>\n",
       "    <tr>\n",
       "      <th>#realityhigh</th>\n",
       "      <td>0.0</td>\n",
       "      <td>1.0</td>\n",
       "      <td>0.0</td>\n",
       "      <td>0.0</td>\n",
       "      <td>0.0</td>\n",
       "      <td>0.054364</td>\n",
       "      <td>0.0</td>\n",
       "      <td>0.0</td>\n",
       "      <td>0.0</td>\n",
       "      <td>0.000000</td>\n",
       "      <td>...</td>\n",
       "      <td>0.0</td>\n",
       "      <td>0.0</td>\n",
       "      <td>0.0</td>\n",
       "      <td>0.000000</td>\n",
       "      <td>0.0</td>\n",
       "      <td>0.0</td>\n",
       "      <td>0.057092</td>\n",
       "      <td>0.0</td>\n",
       "      <td>0.027633</td>\n",
       "      <td>0.0</td>\n",
       "    </tr>\n",
       "    <tr>\n",
       "      <th>Automata</th>\n",
       "      <td>0.0</td>\n",
       "      <td>0.0</td>\n",
       "      <td>1.0</td>\n",
       "      <td>0.0</td>\n",
       "      <td>0.0</td>\n",
       "      <td>0.000000</td>\n",
       "      <td>0.0</td>\n",
       "      <td>0.0</td>\n",
       "      <td>0.0</td>\n",
       "      <td>0.000000</td>\n",
       "      <td>...</td>\n",
       "      <td>0.0</td>\n",
       "      <td>0.0</td>\n",
       "      <td>0.0</td>\n",
       "      <td>0.000000</td>\n",
       "      <td>0.0</td>\n",
       "      <td>0.0</td>\n",
       "      <td>0.000000</td>\n",
       "      <td>0.0</td>\n",
       "      <td>0.000000</td>\n",
       "      <td>0.0</td>\n",
       "    </tr>\n",
       "    <tr>\n",
       "      <th>Fabrizio Copano: Solo pienso en mi</th>\n",
       "      <td>0.0</td>\n",
       "      <td>0.0</td>\n",
       "      <td>0.0</td>\n",
       "      <td>1.0</td>\n",
       "      <td>0.0</td>\n",
       "      <td>0.000000</td>\n",
       "      <td>0.0</td>\n",
       "      <td>0.0</td>\n",
       "      <td>0.0</td>\n",
       "      <td>0.000000</td>\n",
       "      <td>...</td>\n",
       "      <td>0.0</td>\n",
       "      <td>0.0</td>\n",
       "      <td>0.0</td>\n",
       "      <td>0.018766</td>\n",
       "      <td>0.0</td>\n",
       "      <td>0.0</td>\n",
       "      <td>0.000000</td>\n",
       "      <td>0.0</td>\n",
       "      <td>0.000000</td>\n",
       "      <td>0.0</td>\n",
       "    </tr>\n",
       "    <tr>\n",
       "      <th>Good People</th>\n",
       "      <td>0.0</td>\n",
       "      <td>0.0</td>\n",
       "      <td>0.0</td>\n",
       "      <td>0.0</td>\n",
       "      <td>1.0</td>\n",
       "      <td>0.000000</td>\n",
       "      <td>0.0</td>\n",
       "      <td>0.0</td>\n",
       "      <td>0.0</td>\n",
       "      <td>0.000000</td>\n",
       "      <td>...</td>\n",
       "      <td>0.0</td>\n",
       "      <td>0.0</td>\n",
       "      <td>0.0</td>\n",
       "      <td>0.000000</td>\n",
       "      <td>0.0</td>\n",
       "      <td>0.0</td>\n",
       "      <td>0.000000</td>\n",
       "      <td>0.0</td>\n",
       "      <td>0.085988</td>\n",
       "      <td>0.0</td>\n",
       "    </tr>\n",
       "  </tbody>\n",
       "</table>\n",
       "<p>5 rows × 3909 columns</p>\n",
       "</div>"
      ],
      "text/plain": [
       "title                                    Norm of the North: King Sized Adventure  \\\n",
       "title                                                                              \n",
       "Norm of the North: King Sized Adventure                                      1.0   \n",
       "#realityhigh                                                                 0.0   \n",
       "Automata                                                                     0.0   \n",
       "Fabrizio Copano: Solo pienso en mi                                           0.0   \n",
       "Good People                                                                  0.0   \n",
       "\n",
       "title                                    #realityhigh  Automata  \\\n",
       "title                                                             \n",
       "Norm of the North: King Sized Adventure           0.0       0.0   \n",
       "#realityhigh                                      1.0       0.0   \n",
       "Automata                                          0.0       1.0   \n",
       "Fabrizio Copano: Solo pienso en mi                0.0       0.0   \n",
       "Good People                                       0.0       0.0   \n",
       "\n",
       "title                                    Fabrizio Copano: Solo pienso en mi  \\\n",
       "title                                                                         \n",
       "Norm of the North: King Sized Adventure                                 0.0   \n",
       "#realityhigh                                                            0.0   \n",
       "Automata                                                                0.0   \n",
       "Fabrizio Copano: Solo pienso en mi                                      1.0   \n",
       "Good People                                                             0.0   \n",
       "\n",
       "title                                    Good People  \\\n",
       "title                                                  \n",
       "Norm of the North: King Sized Adventure          0.0   \n",
       "#realityhigh                                     0.0   \n",
       "Automata                                         0.0   \n",
       "Fabrizio Copano: Solo pienso en mi               0.0   \n",
       "Good People                                      1.0   \n",
       "\n",
       "title                                    Joaquín Reyes: Una y no más  \\\n",
       "title                                                                  \n",
       "Norm of the North: King Sized Adventure                     0.000000   \n",
       "#realityhigh                                                0.054364   \n",
       "Automata                                                    0.000000   \n",
       "Fabrizio Copano: Solo pienso en mi                          0.000000   \n",
       "Good People                                                 0.000000   \n",
       "\n",
       "title                                    Kidnapping Mr. Heineken  \\\n",
       "title                                                              \n",
       "Norm of the North: King Sized Adventure                      0.0   \n",
       "#realityhigh                                                 0.0   \n",
       "Automata                                                     0.0   \n",
       "Fabrizio Copano: Solo pienso en mi                           0.0   \n",
       "Good People                                                  0.0   \n",
       "\n",
       "title                                    Krish Trish and Baltiboy: Battle of Wits  \\\n",
       "title                                                                               \n",
       "Norm of the North: King Sized Adventure                                       0.0   \n",
       "#realityhigh                                                                  0.0   \n",
       "Automata                                                                      0.0   \n",
       "Fabrizio Copano: Solo pienso en mi                                            0.0   \n",
       "Good People                                                                   0.0   \n",
       "\n",
       "title                                    Krish Trish and Baltiboy: Best Friends Forever  \\\n",
       "title                                                                                     \n",
       "Norm of the North: King Sized Adventure                                             0.0   \n",
       "#realityhigh                                                                        0.0   \n",
       "Automata                                                                            0.0   \n",
       "Fabrizio Copano: Solo pienso en mi                                                  0.0   \n",
       "Good People                                                                         0.0   \n",
       "\n",
       "title                                    Krish Trish and Baltiboy: Comics of India  \\\n",
       "title                                                                                \n",
       "Norm of the North: King Sized Adventure                                   0.053526   \n",
       "#realityhigh                                                              0.000000   \n",
       "Automata                                                                  0.000000   \n",
       "Fabrizio Copano: Solo pienso en mi                                        0.000000   \n",
       "Good People                                                               0.000000   \n",
       "\n",
       "title                                    ...  \\\n",
       "title                                    ...   \n",
       "Norm of the North: King Sized Adventure  ...   \n",
       "#realityhigh                             ...   \n",
       "Automata                                 ...   \n",
       "Fabrizio Copano: Solo pienso en mi       ...   \n",
       "Good People                              ...   \n",
       "\n",
       "title                                    Comedians in Cars Getting Coffee  \\\n",
       "title                                                                       \n",
       "Norm of the North: King Sized Adventure                               0.0   \n",
       "#realityhigh                                                          0.0   \n",
       "Automata                                                              0.0   \n",
       "Fabrizio Copano: Solo pienso en mi                                    0.0   \n",
       "Good People                                                           0.0   \n",
       "\n",
       "title                                    The Cat in the Hat Knows a Lot About That!  \\\n",
       "title                                                                                 \n",
       "Norm of the North: King Sized Adventure                                         0.0   \n",
       "#realityhigh                                                                    0.0   \n",
       "Automata                                                                        0.0   \n",
       "Fabrizio Copano: Solo pienso en mi                                              0.0   \n",
       "Good People                                                                     0.0   \n",
       "\n",
       "title                                    Fullmetal Alchemist: Brotherhood  \\\n",
       "title                                                                       \n",
       "Norm of the North: King Sized Adventure                               0.0   \n",
       "#realityhigh                                                          0.0   \n",
       "Automata                                                              0.0   \n",
       "Fabrizio Copano: Solo pienso en mi                                    0.0   \n",
       "Good People                                                           0.0   \n",
       "\n",
       "title                                      Merlin  Abnormal Summit  \\\n",
       "title                                                                \n",
       "Norm of the North: King Sized Adventure  0.054115              0.0   \n",
       "#realityhigh                             0.000000              0.0   \n",
       "Automata                                 0.000000              0.0   \n",
       "Fabrizio Copano: Solo pienso en mi       0.018766              0.0   \n",
       "Good People                              0.000000              0.0   \n",
       "\n",
       "title                                    The Great British Baking Show  \\\n",
       "title                                                                    \n",
       "Norm of the North: King Sized Adventure                            0.0   \n",
       "#realityhigh                                                       0.0   \n",
       "Automata                                                           0.0   \n",
       "Fabrizio Copano: Solo pienso en mi                                 0.0   \n",
       "Good People                                                        0.0   \n",
       "\n",
       "title                                    Miraculous: Tales of Ladybug & Cat Noir  \\\n",
       "title                                                                              \n",
       "Norm of the North: King Sized Adventure                                 0.000000   \n",
       "#realityhigh                                                            0.057092   \n",
       "Automata                                                                0.000000   \n",
       "Fabrizio Copano: Solo pienso en mi                                      0.000000   \n",
       "Good People                                                             0.000000   \n",
       "\n",
       "title                                    Sacred Games  Men on a Mission  \\\n",
       "title                                                                     \n",
       "Norm of the North: King Sized Adventure           0.0          0.000000   \n",
       "#realityhigh                                      0.0          0.027633   \n",
       "Automata                                          0.0          0.000000   \n",
       "Fabrizio Copano: Solo pienso en mi                0.0          0.000000   \n",
       "Good People                                       0.0          0.085988   \n",
       "\n",
       "title                                    Leyla and Mecnun  \n",
       "title                                                      \n",
       "Norm of the North: King Sized Adventure               0.0  \n",
       "#realityhigh                                          0.0  \n",
       "Automata                                              0.0  \n",
       "Fabrizio Copano: Solo pienso en mi                    0.0  \n",
       "Good People                                           0.0  \n",
       "\n",
       "[5 rows x 3909 columns]"
      ]
     },
     "execution_count": 361,
     "metadata": {},
     "output_type": "execute_result"
    }
   ],
   "source": [
    "cos_sim_df.head()"
   ]
  },
  {
   "cell_type": "code",
   "execution_count": 494,
   "metadata": {},
   "outputs": [],
   "source": [
    "def recommender(name, number):\n",
    "    print('The ' + str(number) + ' most similar Movies/TV Shows to ' + name + ' are:')\n",
    "    for i in cos_sim_df[name].sort_values(ascending=False).index[1:number+1]:\n",
    "        print(i)\n",
    "    return cos_sim_df[name].sort_values(ascending=False).index[1:number+1]"
   ]
  },
  {
   "cell_type": "markdown",
   "metadata": {},
   "source": [
    "# EXAMPLE"
   ]
  },
  {
   "cell_type": "code",
   "execution_count": 495,
   "metadata": {},
   "outputs": [
    {
     "name": "stdout",
     "output_type": "stream",
     "text": [
      "The 5 most similar Movies/TV Shows to Luck by Chance are:\n",
      "Good People\n",
      "Men on a Mission\n",
      "Romeo Akbar Walter\n",
      "Bandie\n",
      "The Wedding Curse\n"
     ]
    },
    {
     "data": {
      "text/plain": [
       "Index(['Good People', 'Men on a Mission', 'Romeo Akbar Walter', 'Bandie',\n",
       "       'The Wedding Curse'],\n",
       "      dtype='object', name='title')"
      ]
     },
     "execution_count": 495,
     "metadata": {},
     "output_type": "execute_result"
    }
   ],
   "source": [
    "recommender(\"Luck by Chance\", 5)"
   ]
  }
 ],
 "metadata": {
  "kernelspec": {
   "display_name": "Python 3 (ipykernel)",
   "language": "python",
   "name": "python3"
  },
  "language_info": {
   "codemirror_mode": {
    "name": "ipython",
    "version": 3
   },
   "file_extension": ".py",
   "mimetype": "text/x-python",
   "name": "python",
   "nbconvert_exporter": "python",
   "pygments_lexer": "ipython3",
   "version": "3.9.7"
  }
 },
 "nbformat": 4,
 "nbformat_minor": 4
}
